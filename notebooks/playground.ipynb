{
 "cells": [
  {
   "cell_type": "code",
   "execution_count": 1,
   "metadata": {},
   "outputs": [],
   "source": [
    "import tft.ql.expr as ql\n",
    "from tft.ql.util import *\n",
    "from tft.client.meta import *\n",
    "from tft.queries.comps import query_comps, query_top_comps, query_comp_details\n",
    "from tft.queries.traits import query_traits, get_trait_name_map\n",
    "create_client(False)"
   ]
  },
  {
   "cell_type": "code",
   "execution_count": 6,
   "metadata": {},
   "outputs": [],
   "source": [
    "all_set_data = ql.query(get_set_data())\n",
    "items = all_set_data.idx('items').map(ql.sub(\n",
    "    {\n",
    "        'apiName': ql.idx('apiName'),\n",
    "        'composition': ql.idx('composition'),\n",
    "        'name': ql.idx('name')\n",
    "    }\n",
    ")).eval()\n",
    "\n",
    "# Traits.\n",
    "traits = all_set_data.idx('traits').filter(ql.contains('units')).eval()\n",
    "# .map(ql.sub({\n",
    "#     'apiName': ql.idx('apiName'),\n",
    "#     'name': ql.idx('name'),\n",
    "#     'tiers': ql.idx('effects').map(ql.idx('minUnits')),\n",
    "#     'units': ql.idx('units').map(ql.idx('unit'))\n",
    "# })).eval()\n",
    "# The champs data doesn't use the api name for traits.\n",
    "soft_to_hard_traits = {x['name']: x['apiName'] for x in traits}\n",
    "\n",
    "# Units.\n",
    "champs = all_set_data.idx('units').filter(ql.idx('traits').length().gt(0)).map(ql.sub({\n",
    "    'apiName': ql.idx('apiName'),\n",
    "    'name': ql.idx('name'),\n",
    "    'traits': ql.idx('traits').map(ql.replace(soft_to_hard_traits)),\n",
    "    'cost': ql.idx('cost')\n",
    "})).eval()"
   ]
  },
  {
   "cell_type": "code",
   "execution_count": null,
   "metadata": {},
   "outputs": [
    {
     "ename": "AttributeError",
     "evalue": "'list' object has no attribute 'pp'",
     "output_type": "error",
     "traceback": [
      "\u001b[0;31m---------------------------------------------------------------------------\u001b[0m",
      "\u001b[0;31mAttributeError\u001b[0m                            Traceback (most recent call last)",
      "Cell \u001b[0;32mIn[8], line 1\u001b[0m\n\u001b[0;32m----> 1\u001b[0m \u001b[43mtraits\u001b[49m\u001b[38;5;241;43m.\u001b[39;49m\u001b[43mpp\u001b[49m()\n",
      "\u001b[0;31mAttributeError\u001b[0m: 'list' object has no attribute 'pp'"
     ]
    }
   ],
   "source": [
    "traits"
   ]
  },
  {
   "cell_type": "code",
   "execution_count": null,
   "metadata": {},
   "outputs": [],
   "source": []
  }
 ],
 "metadata": {
  "kernelspec": {
   "display_name": "tft-O-AcTZla-py3.12",
   "language": "python",
   "name": "python3"
  },
  "language_info": {
   "codemirror_mode": {
    "name": "ipython",
    "version": 3
   },
   "file_extension": ".py",
   "mimetype": "text/x-python",
   "name": "python",
   "nbconvert_exporter": "python",
   "pygments_lexer": "ipython3",
   "version": "3.12.3"
  }
 },
 "nbformat": 4,
 "nbformat_minor": 2
}
